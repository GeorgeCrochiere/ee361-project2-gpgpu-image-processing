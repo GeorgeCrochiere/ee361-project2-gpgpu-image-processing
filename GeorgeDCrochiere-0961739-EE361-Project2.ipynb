{
 "cells": [
  {
   "cell_type": "markdown",
   "metadata": {},
   "source": [
    "# George D. Crochiere - 0961739\n",
    "## EE361 - Project 2\n",
    "## 03/25/2024"
   ]
  },
  {
   "cell_type": "code",
   "execution_count": 30,
   "metadata": {},
   "outputs": [
    {
     "name": "stdout",
     "output_type": "stream",
     "text": [
      "Requirement already satisfied: chainer in c:\\users\\georg\\appdata\\local\\programs\\python\\python38\\lib\\site-packages (7.8.1)\n",
      "Requirement already satisfied: setuptools in c:\\users\\georg\\appdata\\local\\programs\\python\\python38\\lib\\site-packages (from chainer) (41.2.0)\n",
      "Requirement already satisfied: typing-extensions in c:\\users\\georg\\appdata\\roaming\\python\\python38\\site-packages (from chainer) (4.10.0)\n",
      "Requirement already satisfied: filelock in c:\\users\\georg\\appdata\\local\\programs\\python\\python38\\lib\\site-packages (from chainer) (3.13.1)\n",
      "Requirement already satisfied: numpy>=1.9.0 in c:\\users\\georg\\appdata\\local\\programs\\python\\python38\\lib\\site-packages (from chainer) (1.24.4)\n",
      "Requirement already satisfied: protobuf>=3.0.0 in c:\\users\\georg\\appdata\\local\\programs\\python\\python38\\lib\\site-packages (from chainer) (3.20.3)\n",
      "Requirement already satisfied: six>=1.9.0 in c:\\users\\georg\\appdata\\roaming\\python\\python38\\site-packages (from chainer) (1.16.0)\n"
     ]
    },
    {
     "name": "stderr",
     "output_type": "stream",
     "text": [
      "\n",
      "[notice] A new release of pip is available: 23.3.2 -> 24.0\n",
      "[notice] To update, run: python.exe -m pip install --upgrade pip\n"
     ]
    }
   ],
   "source": [
    "import locale\n",
    "def getpreferredencoding(do_setlocale = True):\n",
    "    return \"UTF-8\"\n",
    "\n",
    "locale.getpreferredencoding = getpreferredencoding\n",
    "!pip install chainer\n",
    "import cupy\n",
    "# Note: if you cannot connect to GPU, then import cupy will not work\n",
    "\n",
    "# from google.colab import drive\n",
    "# drive.mount('/content/drive')\n",
    "# Allow connection to Google Drive to save and access images"
   ]
  },
  {
   "cell_type": "markdown",
   "metadata": {},
   "source": [
    "# Double Image"
   ]
  },
  {
   "cell_type": "code",
   "execution_count": 17,
   "metadata": {},
   "outputs": [
    {
     "ename": "SyntaxError",
     "evalue": "invalid syntax (4086832430.py, line 51)",
     "output_type": "error",
     "traceback": [
      "\u001b[1;36m  Cell \u001b[1;32mIn[17], line 51\u001b[1;36m\u001b[0m\n\u001b[1;33m    oldIm = cp.reshape(oldIm, (size, 3),    newIm = cp.reshape(newIm, (size * * 2,))\u001b[0m\n\u001b[1;37m                                                                              ^\u001b[0m\n\u001b[1;31mSyntaxError\u001b[0m\u001b[1;31m:\u001b[0m invalid syntax\n"
     ]
    }
   ],
   "source": [
    "import cupy as cp\n",
    "from PIL import Image\n",
    "\n",
    "# CUDA kernel code\n",
    "double_kernel = cp.RawKernel(r'''\n",
    "extern \"C\" __global__\n",
    "void doubleImg(const unsigned char* old_im, unsigned char* new_im, int width, int height)\n",
    "{\n",
    "    int tid_x = blockDim.x * blockIdx.x + threadIdx.x;\n",
    "    int tid_y = blockDim.y * blockIdx.y + threadIdx.y;\n",
    "\n",
    "    for (int i = 0; i < 3; i++) {\n",
    "        for (int j = 0; j < 3; j++) {\n",
    "            int x = tid_x * 3 + i;\n",
    "            int y = tid_y * 3 + j;\n",
    "\n",
    "            if (x < width && y < height) {\n",
    "                int tid = y * width * 3 + x * 3;\n",
    "                int tid2ds[] = [\n",
    "                    tid,\n",
    "                    (y + 1) * width * 3 + (x) * 3,\n",
    "                    (y) * width * 3 + (x + 1) * 3,\n",
    "                    (y + 1) * width * 3 + (x + 1) * 3\n",
    "                ];\n",
    "\n",
    "                for (int k = 0; k < 3; k++) {\n",
    "                    unsigned char c = old_im[tid + k];\n",
    "\n",
    "                    for (int tid2d : tid2ds) {\n",
    "                        new_im[tid2d + k] = c;\n",
    "                    }\n",
    "                }\n",
    "            }\n",
    "        }\n",
    "    }\n",
    "}\n",
    "\n",
    "''', 'doubleImg')\n",
    "\n",
    "def makeDouble(imageFile):\n",
    "    # Load image using PIL\n",
    "    oldImage = Image.open(imageFile).convert('RGB')\n",
    "    width, height = oldImage.size\n",
    "\n",
    "    # Convert image to cupy array\n",
    "    oldIm = cp.asarray(oldImage, dtype=cp.ubyte)\n",
    "    newIm = cp.empty_like(oldIm)\n",
    "\n",
    "    # Reshape arrays for easier parallelization\n",
    "    size = width * height\n",
    "    oldIm = cp.reshape(oldIm, (size, 3),    newIm = cp.reshape(newIm, (size * * 2,))\n",
    "\n",
    "    # Launch CUDA kernel\n",
    "    block_dim = (32, 32)\n",
    "    grid_dim = (int (cp.ceil(width/3/block_dim[0])), int (cp.ceil(height/3/block_dim[1])))\n",
    "\n",
    "    t3 = time.perf_counter()\n",
    "    double_kernel((grid_dim), (block_dim), (oldIm, newIm, width, height))\n",
    "    t4 = time.perf_counter()\n",
    "    print('time taken to run:',t4-t3)\n",
    "\n",
    "    # Reshape newIm array back to image dimensions\n",
    "    newIm = cp.reshape(newIm, (he * 2ight, w * 2idth, 3))\n",
    "\n",
    "    # Convert cupy array to PIL Image\n",
    "    newImage = Image.fromarray(cp.asnumpy(newIm))\n",
    "\n",
    "    # Save the image\n",
    "    newImage.save('./Dole1D.jpg')\n",
    "\n",
    "import time\n",
    "if __name__ == '__main__':\n",
    "    t1 = time.perf_counter()\n",
    "    makeDouble('./blue-forest-minimal-4k-kz.jpg')\n",
    "    t2 = time.perf_counter()\n",
    "    print('time taken to run:',t2-t1)\n"
   ]
  },
  {
   "cell_type": "markdown",
   "metadata": {},
   "source": [
    "# Vertical Flip"
   ]
  },
  {
   "cell_type": "code",
   "execution_count": 37,
   "metadata": {},
   "outputs": [
    {
     "name": "stdout",
     "output_type": "stream",
     "text": [
      "time taken to run kernel: 3.990000004705507e-05\n",
      "time taken to run: 0.10607509999954345\n"
     ]
    }
   ],
   "source": [
    "import cupy\n",
    "import time\n",
    "from PIL import Image\n",
    "\n",
    "# CUDA Kernel - Vertical Flip\n",
    "verticalFlip_kernel = cp.RawKernel(r'''\n",
    "extern \"C\" __global__\n",
    "void verticalFlip(const unsigned char* old_im, unsigned char* new_im, int width, int height) {\n",
    "    int tid_x = blockDim.x * blockIdx.x + threadIdx.x;\n",
    "    int tid_y = blockDim.y * blockIdx.y + threadIdx.y;\n",
    "    \n",
    "    for (int i = 0; i < 3; i++) {\n",
    "        for (int j = 0; j < 3; j++) {\n",
    "            int x = tid_x * 3 + i;\n",
    "            int y = tid_y * 3 + j;\n",
    "\n",
    "            if (x < width && y < height) {\n",
    "                int tid = y * width * 3 + x * 3;\n",
    "\n",
    "                unsigned char r = old_im[tid];\n",
    "                unsigned char g = old_im[tid + 1];\n",
    "                unsigned char b = old_im[tid + 2];\n",
    "                \n",
    "                int tid_new = (y * width * 3) + ((width - x) * 3);\n",
    "                \n",
    "                new_im[tid_new] = r;\n",
    "                new_im[tid_new + 1] = g;\n",
    "                new_im[tid_new + 2] = b;\n",
    "            }\n",
    "        }\n",
    "    }\n",
    "}\n",
    "''', 'verticalFlip')\n",
    "\n",
    "def makeVerticalFlip(imgFile):\n",
    "    # Original Image\n",
    "    oldImage = Image.open(imgFile).convert('RGB')\n",
    "    width, height = oldImage.size\n",
    "    size = width * height\n",
    "    \n",
    "    # Get image arrays and reshape\n",
    "    oldImArr = cp.asarray(oldImage, dtype=cp.ubyte)\n",
    "    newImArr = cp.empty_like(oldImArr)\n",
    "    oldImArr = cp.reshape(oldImArr, (size, 3))\n",
    "    newImArr = cp.reshape(newImArr, (size, 3))\n",
    "    \n",
    "    # CUDA config\n",
    "    block_dim = (32,32)\n",
    "    grid_dim = (int (cp.ceil(width / 3 / block_dim[0])), int(cp.ceil(height / 3 / block_dim[1])))\n",
    "    \n",
    "    # Start and run\n",
    "    t1Vertical = time.perf_counter()\n",
    "    verticalFlip_kernel((grid_dim), (block_dim), (oldImArr, newImArr, width, height))\n",
    "    t2Vertical = time.perf_counter()\n",
    "    print('time taken to run kernel:', t2Vertical - t1Vertical)\n",
    "    \n",
    "    # Reshape and convert\n",
    "    newImArr = cp.reshape(newImArr, (height, width, 3))\n",
    "    newImage = Image.fromarray(cp.asnumpy(newImArr))\n",
    "    newImage.save('./VerticalFlipResult.jpg')\n",
    "    \n",
    "# Main Method\n",
    "if __name__ == '__main__':\n",
    "    tVerticalStart = time.perf_counter()\n",
    "    makeVerticalFlip('./landscape-scenery-minimalist-4k-r6-2560x1440.jpg');\n",
    "    tVerticalStop = time.perf_counter()\n",
    "    print('time taken to run:', tVerticalStop - tVerticalStart)\n",
    "    "
   ]
  },
  {
   "cell_type": "markdown",
   "metadata": {},
   "source": [
    "# Edge Detection"
   ]
  },
  {
   "cell_type": "code",
   "execution_count": null,
   "metadata": {},
   "outputs": [],
   "source": [
    "import cupy as cp\n",
    "from PIL import Image\n",
    "\n",
    "# CUDA kernel code\n",
    "edge_kernel = cp.RawKernel(r'''\n",
    "extern \"C\" __global__\n",
    "void edgeDetection(const unsigned char* old_im, unsigned char* new_im, int size)\n",
    "{\n",
    "    \n",
    "}\n",
    "\n",
    "''', 'edgeDetection')\n"
   ]
  }
 ],
 "metadata": {
  "kernelspec": {
   "display_name": "Python 3",
   "language": "python",
   "name": "python3"
  },
  "language_info": {
   "codemirror_mode": {
    "name": "ipython",
    "version": 3
   },
   "file_extension": ".py",
   "mimetype": "text/x-python",
   "name": "python",
   "nbconvert_exporter": "python",
   "pygments_lexer": "ipython3",
   "version": "3.8.1"
  }
 },
 "nbformat": 4,
 "nbformat_minor": 2
}
