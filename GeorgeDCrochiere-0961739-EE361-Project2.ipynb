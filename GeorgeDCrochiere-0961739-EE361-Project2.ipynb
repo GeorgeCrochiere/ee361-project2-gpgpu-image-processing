{
 "cells": [
  {
   "cell_type": "markdown",
   "metadata": {},
   "source": [
    "# George D. Crochiere - 0961739\n",
    "## EE361 - Project 2\n",
    "## 03/25/2024"
   ]
  },
  {
   "cell_type": "code",
   "execution_count": null,
   "metadata": {},
   "outputs": [],
   "source": [
    "import locale\n",
    "def getpreferredencoding(do_setlocale = True):\n",
    "    return \"UTF-8\"\n",
    "\n",
    "locale.getpreferredencoding = getpreferredencoding\n",
    "!pip install chainer\n",
    "import cupy\n",
    "# Note: if you cannot connect to GPU, then import cupy will not work\n",
    "\n",
    "# from google.colab import drive\n",
    "# drive.mount('/content/drive')\n",
    "# Allow connection to Google Drive to save and access images"
   ]
  },
  {
   "cell_type": "markdown",
   "metadata": {},
   "source": [
    "# Double Image"
   ]
  },
  {
   "cell_type": "code",
   "execution_count": 71,
   "metadata": {},
   "outputs": [
    {
     "name": "stdout",
     "output_type": "stream",
     "text": [
      "time taken to run: 0.1799409000000196\n",
      "time taken to run: 0.992564399999992\n"
     ]
    }
   ],
   "source": [
    "import cupy as cp\n",
    "import time\n",
    "from PIL import Image\n",
    "\n",
    "# CUDA kernel code\n",
    "double_kernel = cp.RawKernel(r'''\n",
    "extern \"C\" __global__\n",
    "void doubleImg(const unsigned char* old_im, unsigned char* new_im, int width, int height)\n",
    "{\n",
    "    int tid_x = blockDim.x * blockIdx.x + threadIdx.x;\n",
    "    int tid_y = blockDim.y * blockIdx.y + threadIdx.y;\n",
    "\n",
    "    for(int i = 0; i < 3; i++){\n",
    "        for(int j = 0; j < 3; j++){\n",
    "            int x = tid_x * 3 + i;\n",
    "            int y = tid_y * 3 + j;\n",
    "\n",
    "            if (x < (width) && y < (height)) {\n",
    "                for (int c = 0; c < 3; c++) {\n",
    "                    int tid = y * width * 3 + x * 3 + c;\n",
    "\n",
    "                    unsigned char color = old_im[tid];\n",
    "\n",
    "                    new_im[(y * 4) * width * 3 + (x * 2) * 3 + c] = color;\n",
    "                    new_im[(y * 4) * width * 3 + (x * 2 + 1) * 3 + c] = color;\n",
    "                    new_im[(y * 4 + 2) * width * 3 + (x * 2) * 3 + c] = color;\n",
    "                    new_im[(y * 4 + 2) * width * 3 + (x * 2 + 1) * 3 + c] = color;\n",
    "                }\n",
    "            }\n",
    "        }\n",
    "    }\n",
    "}\n",
    "\n",
    "''', 'doubleImg')\n",
    "\n",
    "def makeDouble(imageFile):\n",
    "    # Load image using PIL\n",
    "    oldImage = Image.open(imageFile).convert('RGB')\n",
    "    width, height = oldImage.size\n",
    "\n",
    "    # Convert image to cupy array\n",
    "    oldIm = cp.asarray(oldImage, dtype=cp.ubyte)\n",
    "    newIm = cp.empty_like(oldIm)\n",
    "\n",
    "    # Reshape arrays for easier parallelization\n",
    "    size = width * height * 3\n",
    "    oldIm = cp.reshape(oldIm, (size,))\n",
    "    newIm = cp.resize(newIm, (size * 4,))\n",
    "\n",
    "    # Launch CUDA kernel\n",
    "    block_dim = (32, 32)\n",
    "    grid_dim = (int (cp.ceil(width/3/block_dim[0])), int (cp.ceil(height/3/block_dim[1])))\n",
    "\n",
    "    t3 = time.perf_counter()\n",
    "    double_kernel((grid_dim), (block_dim), (oldIm, newIm, width, height))\n",
    "    t4 = time.perf_counter()\n",
    "    print('time taken to run:',t4-t3)\n",
    "\n",
    "    # Reshape newIm array back to image dimensions\n",
    "    newIm = cp.reshape(newIm, (height * 2, width * 2, 3))\n",
    "\n",
    "    # Convert cupy array to PIL Image\n",
    "    newImage = Image.fromarray(cp.asnumpy(newIm))\n",
    "\n",
    "    # Save the image\n",
    "    newImage.save('./double.jpg')\n",
    "\n",
    "if __name__ == '__main__':\n",
    "    t1 = time.perf_counter()\n",
    "    # input image\n",
    "    makeDouble('./dog.jpg')\n",
    "    t2 = time.perf_counter()\n",
    "    print('time taken to run:',t2-t1)\n"
   ]
  },
  {
   "cell_type": "markdown",
   "metadata": {},
   "source": [
    "# Vertical Flip"
   ]
  },
  {
   "cell_type": "code",
   "execution_count": 27,
   "metadata": {},
   "outputs": [],
   "source": [
    "import cupy\n",
    "from PIL import Image\n",
    "\n",
    "# CUDA Kernel - Vertical Flip\n",
    "vertical_kernel_flip = cp.RawKernel(r'''\n",
    "extern \"C\" __global__;\n",
    "void verticalFlip(const unsigned char* old_im, unsigned char* new_im, width, height) {\n",
    "    int tid_x = blockDim.x * blockIdx.x + threadIdx.x;\n",
    "    int tid_y = blockDim.y * blockIdx.y + threadIdx.y;\n",
    "    int size = width * height;\n",
    "    \n",
    "    for (int i = 0; i < 3; i++) {\n",
    "        for (int j = 0; j < 3; j++) {\n",
    "            int x = tid_x * 3 + i;\n",
    "            int y = tid_y * 3 + j;\n",
    "            \n",
    "            if (x < width && y < height) {\n",
    "                int tid = (y * width * 3) + (x * 3);\n",
    "                \n",
    "                unsigned char r = old_im[tid];\n",
    "                unsigned char g = old_im[tid + 1];\n",
    "                unsigned char b = old_im[tid + 2];\n",
    "                \n",
    "                int tid_new = ((width - y) * width * 3) + (x * 3);\n",
    "                \n",
    "                new_im[tid_new * 3] = r\n",
    "                new_im[tid_new * 3 + 1] = g\n",
    "                new_im[tid_new * 3 + 2] = b\n",
    "            }\n",
    "        }\n",
    "    }\n",
    "}\n",
    "''', 'verticalFlip')\n",
    "\n",
    "def makeVerticalFlip(imgFile):\n",
    "    # Original Image\n",
    "    oldImage = Image.open(imgFile).convert('RGB')\n",
    "    width, height = oldImage.size\n",
    "    \n",
    "    oldImArr = cp.asarray(oldImage, (size, 3))\n",
    "    newImArr = cp.empty_like(oldImArr)\n",
    "    \n",
    "    \n",
    "    "
   ]
  },
  {
   "cell_type": "markdown",
   "metadata": {},
   "source": [
    "# Edge Detection"
   ]
  },
  {
   "cell_type": "code",
   "execution_count": null,
   "metadata": {},
   "outputs": [],
   "source": [
    "import cupy as cp\n",
    "from PIL import Image\n",
    "\n",
    "# CUDA kernel code\n",
    "edge_kernel = cp.RawKernel(r'''\n",
    "extern \"C\" __global__\n",
    "void edgeDetection(const unsigned char* old_im, unsigned char* new_im, int size)\n",
    "{\n",
    "    \n",
    "}\n",
    "\n",
    "''', 'edgeDetection')\n"
   ]
  }
 ],
 "metadata": {
  "kernelspec": {
   "display_name": "Python 3",
   "language": "python",
   "name": "python3"
  },
  "language_info": {
   "codemirror_mode": {
    "name": "ipython",
    "version": 3
   },
   "file_extension": ".py",
   "mimetype": "text/x-python",
   "name": "python",
   "nbconvert_exporter": "python",
   "pygments_lexer": "ipython3",
   "version": "3.9.12"
  }
 },
 "nbformat": 4,
 "nbformat_minor": 2
}
